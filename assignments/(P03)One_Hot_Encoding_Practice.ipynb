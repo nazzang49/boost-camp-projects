{
  "nbformat": 4,
  "nbformat_minor": 0,
  "metadata": {
    "colab": {
      "name": "(P03)One_Hot_Encoding_Practice.ipynb",
      "provenance": [],
      "collapsed_sections": [],
      "authorship_tag": "ABX9TyPohk0m4lLyP9Y79EWgEkyn",
      "include_colab_link": true
    },
    "kernelspec": {
      "name": "python3",
      "display_name": "Python 3"
    },
    "language_info": {
      "name": "python"
    }
  },
  "cells": [
    {
      "cell_type": "markdown",
      "metadata": {
        "id": "view-in-github",
        "colab_type": "text"
      },
      "source": [
        "<a href=\"https://colab.research.google.com/github/nazzang49/boost-camp-projects/blob/main/assignments/(P03)One_Hot_Encoding_Practice.ipynb\" target=\"_parent\"><img src=\"https://colab.research.google.com/assets/colab-badge.svg\" alt=\"Open In Colab\"/></a>"
      ]
    },
    {
      "cell_type": "markdown",
      "metadata": {
        "id": "DBBY8QjO1rwI"
      },
      "source": [
        "# Practice One Hot Encoding\n",
        "- (URL) https://wikidocs.net/22647"
      ]
    },
    {
      "cell_type": "code",
      "metadata": {
        "id": "IvQTuI8p18bo"
      },
      "source": [
        "from konlpy.tag import Okt\n",
        "from collections import defaultdict"
      ],
      "execution_count": 8,
      "outputs": []
    },
    {
      "cell_type": "code",
      "metadata": {
        "colab": {
          "base_uri": "https://localhost:8080/"
        },
        "id": "ufdMQFFP1q2A",
        "outputId": "5f6c4ae2-6299-439b-f3b7-1e90e00e9231"
      },
      "source": [
        "# analyzing korean morphs\n",
        "s = '나는 자연어 처리를 배운다.'\n",
        "okt = Okt()  \n",
        "token = okt.morphs(s)\n",
        "token"
      ],
      "execution_count": 9,
      "outputs": [
        {
          "output_type": "execute_result",
          "data": {
            "text/plain": [
              "['나', '는', '자연어', '처리', '를', '배운다', '.']"
            ]
          },
          "metadata": {},
          "execution_count": 9
        }
      ]
    },
    {
      "cell_type": "code",
      "metadata": {
        "colab": {
          "base_uri": "https://localhost:8080/"
        },
        "id": "hFQgAaUy19IG",
        "outputId": "2b1b94b1-f37a-4844-d9f3-25cb5edae4e9"
      },
      "source": [
        "word2idx = defaultdict(int)\n",
        "for voca in token:\n",
        "    word2idx[voca] = len(word2idx)\n",
        "word2idx"
      ],
      "execution_count": 10,
      "outputs": [
        {
          "output_type": "execute_result",
          "data": {
            "text/plain": [
              "defaultdict(int, {'.': 6, '나': 0, '는': 1, '를': 4, '배운다': 5, '자연어': 2, '처리': 3})"
            ]
          },
          "metadata": {},
          "execution_count": 10
        }
      ]
    },
    {
      "cell_type": "code",
      "metadata": {
        "id": "gubjikKZ19K5"
      },
      "source": [
        "# one hot encoding\n",
        "def one_hot_encoding(word, word2index):\n",
        "    one_hot_vector = [0]*(len(word2index))\n",
        "    index=word2index[word]\n",
        "    one_hot_vector[index]=1\n",
        "    return one_hot_vector"
      ],
      "execution_count": 12,
      "outputs": []
    },
    {
      "cell_type": "code",
      "metadata": {
        "colab": {
          "base_uri": "https://localhost:8080/"
        },
        "id": "wV6AkwY319Np",
        "outputId": "d7e97cb6-e188-407c-daa0-35088e4c20c2"
      },
      "source": [
        "one_hot_encoding('자연어', word2idx)"
      ],
      "execution_count": 13,
      "outputs": [
        {
          "output_type": "execute_result",
          "data": {
            "text/plain": [
              "[0, 0, 1, 0, 0, 0, 0]"
            ]
          },
          "metadata": {},
          "execution_count": 13
        }
      ]
    },
    {
      "cell_type": "code",
      "metadata": {
        "id": "TK_k48eU1-SE"
      },
      "source": [
        ""
      ],
      "execution_count": 10,
      "outputs": []
    }
  ]
}