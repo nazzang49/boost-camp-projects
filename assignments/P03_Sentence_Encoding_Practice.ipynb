{
  "nbformat": 4,
  "nbformat_minor": 0,
  "metadata": {
    "colab": {
      "name": "P03-Sentence_Encoding_Practice.ipynb",
      "provenance": [],
      "collapsed_sections": [],
      "authorship_tag": "ABX9TyO24rWoVS6hYx1PcRepppn9",
      "include_colab_link": true
    },
    "kernelspec": {
      "name": "python3",
      "display_name": "Python 3"
    },
    "language_info": {
      "name": "python"
    }
  },
  "cells": [
    {
      "cell_type": "markdown",
      "metadata": {
        "id": "view-in-github",
        "colab_type": "text"
      },
      "source": [
        "<a href=\"https://colab.research.google.com/github/nazzang49/boost-camp-projects/blob/main/assignments/P03_Sentence_Encoding_Practice.ipynb\" target=\"_parent\"><img src=\"https://colab.research.google.com/assets/colab-badge.svg\" alt=\"Open In Colab\"/></a>"
      ]
    },
    {
      "cell_type": "markdown",
      "metadata": {
        "id": "A1IMaT3GwFRm"
      },
      "source": [
        "# Practice Converting Raw Sentences into Integer-Encoded Sentences\n",
        "- (URL) https://wikidocs.net/31766"
      ]
    },
    {
      "cell_type": "code",
      "metadata": {
        "id": "sOpqMsOwv87-"
      },
      "source": [
        "from nltk.tokenize import sent_tokenize\n",
        "from nltk.tokenize import word_tokenize\n",
        "from nltk.corpus import stopwords\n",
        "from collections import defaultdict\n",
        "# import nltk\n",
        "# nltk.download('stopwords')"
      ],
      "execution_count": 27,
      "outputs": []
    },
    {
      "cell_type": "code",
      "metadata": {
        "id": "KD_Kw-xjw4_X"
      },
      "source": [
        "text = \"A barber is a person. a barber is good person. a barber is huge person. he Knew A Secret! The Secret He Kept is huge secret. Huge secret. His barber kept his word. a barber kept his word. His barber kept his secret. But keeping and keeping such a huge secret to himself was driving the barber crazy. the barber went up a huge mountain.\""
      ],
      "execution_count": 28,
      "outputs": []
    },
    {
      "cell_type": "code",
      "metadata": {
        "id": "UqJlay5iw5EQ"
      },
      "source": [
        "class Encoder():\n",
        "    '''\n",
        "    A class for converting raw sentences into integer-encoded sentences\n",
        "    '''\n",
        "    def __init__(self):\n",
        "        pass\n",
        "    \n",
        "    @staticmethod\n",
        "    def get_tokenized_sentences(raw_text: str):\n",
        "        return sent_tokenize(raw_text)\n",
        "    \n",
        "    @staticmethod\n",
        "    def get_vocab(tokenized_sentences: list):\n",
        "        vocab = defaultdict(int)\n",
        "        sentences = []\n",
        "        stop_words = set(stopwords.words('english'))\n",
        "\n",
        "        for sentence in tokenized_sentences:\n",
        "            tokenized_words = word_tokenize(sentence)\n",
        "            result = []\n",
        "            for word in tokenized_words:\n",
        "                word = word.lower()\n",
        "                if not word in stop_words and len(word) > 2:\n",
        "                    result.append(word)\n",
        "                    vocab[word] += 1\n",
        "            # tokenized sentences\n",
        "            sentences.append(result)\n",
        "\n",
        "        return sentences, vocab\n",
        "    \n",
        "    @staticmethod\n",
        "    def get_sorted_vocab(vocab: defaultdict):\n",
        "        return sorted(vocab.items(), key=lambda x: x[1], reverse=True)\n",
        "    \n",
        "    @staticmethod\n",
        "    def get_word2idx(sorted_vocab:list):\n",
        "        word2idx = dict()\n",
        "        idx = 0\n",
        "        for (word, freq) in sorted_vocab:\n",
        "            if freq >= 2:\n",
        "                idx += 1\n",
        "                word2idx[word] = idx\n",
        "        return word2idx\n",
        "    \n",
        "    @staticmethod\n",
        "    def get_removed_word2idx(word2idx: dict):\n",
        "        words = [w for w, f in word2idx.items() if f >= 6]\n",
        "        for w in words:\n",
        "            del word2idx[w]\n",
        "        return word2idx\n",
        "    \n",
        "    @staticmethod\n",
        "    def get_encoded_sentences(word2idx: dict, tokenized_sentences: list):\n",
        "        encoded = []\n",
        "        for sentence in tokenized_sentences:\n",
        "            tmp = []\n",
        "            for word in sentence:\n",
        "                try:\n",
        "                    tmp.append(word2idx[word])\n",
        "                except KeyError:\n",
        "                    print(f'[ Key Error ] {word}은/는 사전에 없는 단어입니다. OOV로 대체합니다.')\n",
        "                    tmp.append(word2idx['OOV'])\n",
        "            encoded.append(tmp)\n",
        "        return encoded"
      ],
      "execution_count": 60,
      "outputs": []
    },
    {
      "cell_type": "code",
      "metadata": {
        "colab": {
          "base_uri": "https://localhost:8080/"
        },
        "id": "6_8M7ATRw5G4",
        "outputId": "71c6111a-b2ff-483b-d5e0-dabe676f1983"
      },
      "source": [
        "tokenized_sentences = Encoder.get_tokenized_sentences(text)\n",
        "tokenized_sentences"
      ],
      "execution_count": 30,
      "outputs": [
        {
          "output_type": "execute_result",
          "data": {
            "text/plain": [
              "['A barber is a person.',\n",
              " 'a barber is good person.',\n",
              " 'a barber is huge person.',\n",
              " 'he Knew A Secret!',\n",
              " 'The Secret He Kept is huge secret.',\n",
              " 'Huge secret.',\n",
              " 'His barber kept his word.',\n",
              " 'a barber kept his word.',\n",
              " 'His barber kept his secret.',\n",
              " 'But keeping and keeping such a huge secret to himself was driving the barber crazy.',\n",
              " 'the barber went up a huge mountain.']"
            ]
          },
          "metadata": {},
          "execution_count": 30
        }
      ]
    },
    {
      "cell_type": "code",
      "metadata": {
        "colab": {
          "base_uri": "https://localhost:8080/"
        },
        "id": "luy5aOuRw5Jw",
        "outputId": "afc6a01a-c1d7-40f8-c2ac-324b7f972534"
      },
      "source": [
        "tokenized_sentences, vocab = Encoder.get_vocab(tokenized_sentences)\n",
        "print(tokenized_sentences)\n",
        "print(vocab)"
      ],
      "execution_count": 33,
      "outputs": [
        {
          "output_type": "stream",
          "name": "stdout",
          "text": [
            "[['barber', 'person'], ['barber', 'good', 'person'], ['barber', 'huge', 'person'], ['knew', 'secret'], ['secret', 'kept', 'huge', 'secret'], ['huge', 'secret'], ['barber', 'kept', 'word'], ['barber', 'kept', 'word'], ['barber', 'kept', 'secret'], ['keeping', 'keeping', 'huge', 'secret', 'driving', 'barber', 'crazy'], ['barber', 'went', 'huge', 'mountain']]\n",
            "defaultdict(<class 'int'>, {'barber': 8, 'person': 3, 'good': 1, 'huge': 5, 'knew': 1, 'secret': 6, 'kept': 4, 'word': 2, 'keeping': 2, 'driving': 1, 'crazy': 1, 'went': 1, 'mountain': 1})\n"
          ]
        }
      ]
    },
    {
      "cell_type": "code",
      "metadata": {
        "colab": {
          "base_uri": "https://localhost:8080/"
        },
        "id": "47z3JxTdw5Mf",
        "outputId": "11ec83fc-fee2-4b3d-fed4-6c8f725c2aca"
      },
      "source": [
        "sorted_vocab = Encoder.get_sorted_vocab(vocab)\n",
        "sorted_vocab"
      ],
      "execution_count": 38,
      "outputs": [
        {
          "output_type": "execute_result",
          "data": {
            "text/plain": [
              "[('barber', 8),\n",
              " ('secret', 6),\n",
              " ('huge', 5),\n",
              " ('kept', 4),\n",
              " ('person', 3),\n",
              " ('word', 2),\n",
              " ('keeping', 2),\n",
              " ('good', 1),\n",
              " ('knew', 1),\n",
              " ('driving', 1),\n",
              " ('crazy', 1),\n",
              " ('went', 1),\n",
              " ('mountain', 1)]"
            ]
          },
          "metadata": {},
          "execution_count": 38
        }
      ]
    },
    {
      "cell_type": "code",
      "metadata": {
        "colab": {
          "base_uri": "https://localhost:8080/"
        },
        "id": "HIc5Uyg2w5PJ",
        "outputId": "dca365a0-2df2-4b17-b10c-89b0021344ce"
      },
      "source": [
        "word2idx = Encoder.get_word2idx(sorted_vocab)\n",
        "word2idx"
      ],
      "execution_count": 54,
      "outputs": [
        {
          "output_type": "execute_result",
          "data": {
            "text/plain": [
              "{'barber': 1,\n",
              " 'huge': 3,\n",
              " 'keeping': 7,\n",
              " 'kept': 4,\n",
              " 'person': 5,\n",
              " 'secret': 2,\n",
              " 'word': 6}"
            ]
          },
          "metadata": {},
          "execution_count": 54
        }
      ]
    },
    {
      "cell_type": "code",
      "metadata": {
        "colab": {
          "base_uri": "https://localhost:8080/"
        },
        "id": "gD9xBtZLw5lg",
        "outputId": "73dd6818-d1e5-4fd3-b117-47cbaf1e4ab9"
      },
      "source": [
        "word2idx = Encoder.get_removed_word2idx(word2idx)\n",
        "word2idx"
      ],
      "execution_count": 55,
      "outputs": [
        {
          "output_type": "execute_result",
          "data": {
            "text/plain": [
              "{'barber': 1, 'huge': 3, 'kept': 4, 'person': 5, 'secret': 2}"
            ]
          },
          "metadata": {},
          "execution_count": 55
        }
      ]
    },
    {
      "cell_type": "code",
      "metadata": {
        "id": "P3Pf4L_2w5oT"
      },
      "source": [
        "word2idx['OOV'] = len(word2idx) + 1"
      ],
      "execution_count": 56,
      "outputs": []
    },
    {
      "cell_type": "code",
      "metadata": {
        "colab": {
          "base_uri": "https://localhost:8080/"
        },
        "id": "0rp4kycg6GhF",
        "outputId": "3324fdf0-c40c-4702-d77d-d62f6df8c037"
      },
      "source": [
        "encoded_sentences = Encoder.get_encoded_sentences(word2idx, tokenized_sentences)\n",
        "encoded_sentences"
      ],
      "execution_count": 61,
      "outputs": [
        {
          "output_type": "stream",
          "name": "stdout",
          "text": [
            "[ Key Error ] good은/는 사전에 없는 단어입니다. OOV로 대체합니다.\n",
            "[ Key Error ] knew은/는 사전에 없는 단어입니다. OOV로 대체합니다.\n",
            "[ Key Error ] word은/는 사전에 없는 단어입니다. OOV로 대체합니다.\n",
            "[ Key Error ] word은/는 사전에 없는 단어입니다. OOV로 대체합니다.\n",
            "[ Key Error ] keeping은/는 사전에 없는 단어입니다. OOV로 대체합니다.\n",
            "[ Key Error ] keeping은/는 사전에 없는 단어입니다. OOV로 대체합니다.\n",
            "[ Key Error ] driving은/는 사전에 없는 단어입니다. OOV로 대체합니다.\n",
            "[ Key Error ] crazy은/는 사전에 없는 단어입니다. OOV로 대체합니다.\n",
            "[ Key Error ] went은/는 사전에 없는 단어입니다. OOV로 대체합니다.\n",
            "[ Key Error ] mountain은/는 사전에 없는 단어입니다. OOV로 대체합니다.\n"
          ]
        },
        {
          "output_type": "execute_result",
          "data": {
            "text/plain": [
              "[[1, 5],\n",
              " [1, 6, 5],\n",
              " [1, 3, 5],\n",
              " [6, 2],\n",
              " [2, 4, 3, 2],\n",
              " [3, 2],\n",
              " [1, 4, 6],\n",
              " [1, 4, 6],\n",
              " [1, 4, 2],\n",
              " [6, 6, 3, 2, 6, 1, 6],\n",
              " [1, 6, 3, 6]]"
            ]
          },
          "metadata": {},
          "execution_count": 61
        }
      ]
    }
  ]
}