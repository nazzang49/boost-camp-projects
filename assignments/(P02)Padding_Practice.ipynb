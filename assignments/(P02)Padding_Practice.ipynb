{
  "nbformat": 4,
  "nbformat_minor": 0,
  "metadata": {
    "colab": {
      "name": "(P02)Padding_Practice.ipynb",
      "provenance": [],
      "collapsed_sections": [],
      "authorship_tag": "ABX9TyM2u63gZzf1PCV1kgzzRxVW",
      "include_colab_link": true
    },
    "kernelspec": {
      "name": "python3",
      "display_name": "Python 3"
    },
    "language_info": {
      "name": "python"
    }
  },
  "cells": [
    {
      "cell_type": "markdown",
      "metadata": {
        "id": "view-in-github",
        "colab_type": "text"
      },
      "source": [
        "<a href=\"https://colab.research.google.com/github/nazzang49/boost-camp-projects/blob/main/assignments/(P02)Padding_Practice.ipynb\" target=\"_parent\"><img src=\"https://colab.research.google.com/assets/colab-badge.svg\" alt=\"Open In Colab\"/></a>"
      ]
    },
    {
      "cell_type": "markdown",
      "metadata": {
        "id": "_iKBt3SGHx-5"
      },
      "source": [
        "# Practice Padding in NLP\n",
        "- (URL) https://wikidocs.net/83544\n",
        "- (REF) https://pytorch.org/docs/stable/generated/torch.nn.utils.rnn.pad_sequence.html"
      ]
    },
    {
      "cell_type": "code",
      "metadata": {
        "id": "cOAOSPBoHqyG"
      },
      "source": [
        "from torch.nn.utils.rnn import pad_sequence, pack_padded_sequence, pad_packed_sequence\n",
        "import torch"
      ],
      "execution_count": 6,
      "outputs": []
    },
    {
      "cell_type": "code",
      "metadata": {
        "id": "0uG4-VP-H8SK",
        "colab": {
          "base_uri": "https://localhost:8080/"
        },
        "outputId": "41032825-ab7c-45de-9be2-0b4232a49f4f"
      },
      "source": [
        "# pad_sequence example\n",
        "a = torch.rand(25, 300)\n",
        "b = torch.rand(15, 300)\n",
        "c = torch.rand(30, 300)\n",
        "d = pad_sequence([a, b, c], batch_first=True)\n",
        "d"
      ],
      "execution_count": 7,
      "outputs": [
        {
          "output_type": "execute_result",
          "data": {
            "text/plain": [
              "tensor([[[0.2821, 0.0819, 0.3674,  ..., 0.3741, 0.3288, 0.4672],\n",
              "         [0.3820, 0.3417, 0.4454,  ..., 0.2695, 0.6993, 0.6052],\n",
              "         [0.0491, 0.8702, 0.8983,  ..., 0.2812, 0.7589, 0.3905],\n",
              "         ...,\n",
              "         [0.0000, 0.0000, 0.0000,  ..., 0.0000, 0.0000, 0.0000],\n",
              "         [0.0000, 0.0000, 0.0000,  ..., 0.0000, 0.0000, 0.0000],\n",
              "         [0.0000, 0.0000, 0.0000,  ..., 0.0000, 0.0000, 0.0000]],\n",
              "\n",
              "        [[0.8623, 0.6030, 0.9990,  ..., 0.8997, 0.2210, 0.6327],\n",
              "         [0.4806, 0.1996, 0.7181,  ..., 0.1942, 0.3888, 0.3936],\n",
              "         [0.9138, 0.0201, 0.1585,  ..., 0.1650, 0.5211, 0.4323],\n",
              "         ...,\n",
              "         [0.0000, 0.0000, 0.0000,  ..., 0.0000, 0.0000, 0.0000],\n",
              "         [0.0000, 0.0000, 0.0000,  ..., 0.0000, 0.0000, 0.0000],\n",
              "         [0.0000, 0.0000, 0.0000,  ..., 0.0000, 0.0000, 0.0000]],\n",
              "\n",
              "        [[0.4232, 0.0578, 0.3817,  ..., 0.6019, 0.2982, 0.0140],\n",
              "         [0.2613, 0.6804, 0.5823,  ..., 0.3885, 0.2454, 0.4629],\n",
              "         [0.4679, 0.3488, 0.8611,  ..., 0.4941, 0.5971, 0.4573],\n",
              "         ...,\n",
              "         [0.8486, 0.1401, 0.7348,  ..., 0.6691, 0.8072, 0.1689],\n",
              "         [0.1543, 0.1286, 0.2914,  ..., 0.7006, 0.9551, 0.1585],\n",
              "         [0.0609, 0.8315, 0.1366,  ..., 0.9292, 0.7847, 0.4999]]])"
            ]
          },
          "metadata": {},
          "execution_count": 7
        }
      ]
    },
    {
      "cell_type": "code",
      "metadata": {
        "colab": {
          "base_uri": "https://localhost:8080/"
        },
        "id": "aVtibhUvM4ev",
        "outputId": "75b8abee-a6d7-4b1e-fb7e-3f5c44bc883b"
      },
      "source": [
        "# pad => packed with unsorted\n",
        "seq = torch.tensor([[1, 2, 0], [3, 0, 0], [4, 5, 6]])\n",
        "lens = [2, 1, 3]\n",
        "unsorted_packed = pack_padded_sequence(seq, lens, batch_first=True, enforce_sorted=False)\n",
        "print(unsorted_packed)"
      ],
      "execution_count": null,
      "outputs": [
        {
          "output_type": "stream",
          "name": "stdout",
          "text": [
            "PackedSequence(data=tensor([4, 1, 3, 5, 2, 6]), batch_sizes=tensor([3, 2, 1]), sorted_indices=tensor([2, 0, 1]), unsorted_indices=tensor([1, 2, 0]))\n"
          ]
        }
      ]
    },
    {
      "cell_type": "code",
      "metadata": {
        "colab": {
          "base_uri": "https://localhost:8080/"
        },
        "id": "sAR-y58INWwW",
        "outputId": "33c99d4c-33d7-4fa5-821e-8f9bc2f69c00"
      },
      "source": [
        "# pad => packed with sorted\n",
        "seq = torch.tensor([[4, 5, 6], [1, 2, 0], [3, 0, 0]])\n",
        "lens = [3, 2, 1]\n",
        "sorted_packed = pack_padded_sequence(seq, lens, batch_first=True) # if sorted=True => should order lens in descending\n",
        "print(sorted_packed)"
      ],
      "execution_count": null,
      "outputs": [
        {
          "output_type": "stream",
          "name": "stdout",
          "text": [
            "PackedSequence(data=tensor([4, 1, 3, 5, 2, 6]), batch_sizes=tensor([3, 2, 1]), sorted_indices=None, unsorted_indices=None)\n"
          ]
        }
      ]
    },
    {
      "cell_type": "code",
      "metadata": {
        "colab": {
          "base_uri": "https://localhost:8080/"
        },
        "id": "-lVMdQjQN2r3",
        "outputId": "580dc355-0332-433c-840f-76ce8b2cf240"
      },
      "source": [
        "# packed => pad (sorted vs unsorted is diff)\n",
        "seq_unpacked, lens_unpacked = pad_packed_sequence(unsorted_packed, batch_first=True)\n",
        "print(seq_unpacked)\n",
        "print(lens_unpacked)"
      ],
      "execution_count": null,
      "outputs": [
        {
          "output_type": "stream",
          "name": "stdout",
          "text": [
            "tensor([[1, 2, 0],\n",
            "        [3, 0, 0],\n",
            "        [4, 5, 6]])\n",
            "tensor([2, 1, 3])\n"
          ]
        }
      ]
    },
    {
      "cell_type": "markdown",
      "metadata": {
        "id": "Wa4CpJuFJKoa"
      },
      "source": [
        "## Numpy"
      ]
    },
    {
      "cell_type": "code",
      "metadata": {
        "id": "d0Ng_UEWH8U0",
        "colab": {
          "base_uri": "https://localhost:8080/"
        },
        "outputId": "0c353cdc-3d9f-4d98-8ece-e77ff5011bc9"
      },
      "source": [
        "sentences = [['barber', 'person'], ['barber', 'good', 'person'], ['barber', 'huge', 'person'], ['knew', 'secret'], ['secret', 'kept', 'huge', 'secret'], ['huge', 'secret'], ['barber', 'kept', 'word'], ['barber', 'kept', 'word'], ['barber', 'kept', 'secret'], ['keeping', 'keeping', 'huge', 'secret', 'driving', 'barber', 'crazy'], ['barber', 'went', 'huge', 'mountain']]\n",
        "sentences"
      ],
      "execution_count": 1,
      "outputs": [
        {
          "output_type": "execute_result",
          "data": {
            "text/plain": [
              "[['barber', 'person'],\n",
              " ['barber', 'good', 'person'],\n",
              " ['barber', 'huge', 'person'],\n",
              " ['knew', 'secret'],\n",
              " ['secret', 'kept', 'huge', 'secret'],\n",
              " ['huge', 'secret'],\n",
              " ['barber', 'kept', 'word'],\n",
              " ['barber', 'kept', 'word'],\n",
              " ['barber', 'kept', 'secret'],\n",
              " ['keeping', 'keeping', 'huge', 'secret', 'driving', 'barber', 'crazy'],\n",
              " ['barber', 'went', 'huge', 'mountain']]"
            ]
          },
          "metadata": {},
          "execution_count": 1
        }
      ]
    },
    {
      "cell_type": "code",
      "metadata": {
        "id": "i7x5l6PCH8XS"
      },
      "source": [
        "from tensorflow.keras.preprocessing.text import Tokenizer"
      ],
      "execution_count": 2,
      "outputs": []
    },
    {
      "cell_type": "code",
      "metadata": {
        "id": "aMKzrYcmH8Z5"
      },
      "source": [
        "# word to index\n",
        "tokenizer = Tokenizer()\n",
        "tokenizer.fit_on_texts(sentences)\n",
        "encoded = tokenizer.texts_to_sequences(sentences)\n",
        "encoded"
      ],
      "execution_count": null,
      "outputs": []
    },
    {
      "cell_type": "code",
      "metadata": {
        "id": "OgAYK-zxH8cd"
      },
      "source": [
        "tmp_list = []\n",
        "for s in encoded:\n",
        "    tmp_list.append(torch.tensor(s))\n",
        "tmp_list"
      ],
      "execution_count": null,
      "outputs": []
    },
    {
      "cell_type": "code",
      "metadata": {
        "id": "iX-XBdWTH8fC",
        "colab": {
          "base_uri": "https://localhost:8080/"
        },
        "outputId": "834b85e7-aad1-4d19-b833-3061271c5ec0"
      },
      "source": [
        "# zero padding based on max length\n",
        "padded_result = pad_sequence(tmp_list, batch_first=True)\n",
        "padded_result"
      ],
      "execution_count": 16,
      "outputs": [
        {
          "output_type": "execute_result",
          "data": {
            "text/plain": [
              "tensor([[ 1,  5,  0,  0,  0,  0,  0],\n",
              "        [ 1,  8,  5,  0,  0,  0,  0],\n",
              "        [ 1,  3,  5,  0,  0,  0,  0],\n",
              "        [ 9,  2,  0,  0,  0,  0,  0],\n",
              "        [ 2,  4,  3,  2,  0,  0,  0],\n",
              "        [ 3,  2,  0,  0,  0,  0,  0],\n",
              "        [ 1,  4,  6,  0,  0,  0,  0],\n",
              "        [ 1,  4,  6,  0,  0,  0,  0],\n",
              "        [ 1,  4,  2,  0,  0,  0,  0],\n",
              "        [ 7,  7,  3,  2, 10,  1, 11],\n",
              "        [ 1, 12,  3, 13,  0,  0,  0]])"
            ]
          },
          "metadata": {},
          "execution_count": 16
        }
      ]
    },
    {
      "cell_type": "code",
      "metadata": {
        "colab": {
          "base_uri": "https://localhost:8080/"
        },
        "id": "311PHTPNtpQN",
        "outputId": "d4fef81a-7316-435b-a492-8b3f8c18e273"
      },
      "source": [
        "len_list = []\n",
        "for p in padded_result:\n",
        "    cnt = 0\n",
        "    for i in p:\n",
        "        if i != 0:\n",
        "           cnt += 1\n",
        "    len_list.append(cnt)\n",
        "len_list"
      ],
      "execution_count": 23,
      "outputs": [
        {
          "output_type": "execute_result",
          "data": {
            "text/plain": [
              "[2, 3, 3, 2, 4, 2, 3, 3, 3, 7, 4]"
            ]
          },
          "metadata": {},
          "execution_count": 23
        }
      ]
    },
    {
      "cell_type": "code",
      "metadata": {
        "id": "eu6_BbdwH8hs",
        "colab": {
          "base_uri": "https://localhost:8080/"
        },
        "outputId": "c70ca70b-f661-4366-df3c-51a1a2590cec"
      },
      "source": [
        "# packing\n",
        "packed_sequence = pack_padded_sequence(padded_result, len_list, batch_first=True, enforce_sorted=False)\n",
        "packed_sequence"
      ],
      "execution_count": 21,
      "outputs": [
        {
          "output_type": "execute_result",
          "data": {
            "text/plain": [
              "PackedSequence(data=tensor([ 7,  2,  1,  1,  1,  1,  1,  1,  1,  9,  3,  7,  4, 12,  8,  3,  4,  4,\n",
              "         4,  5,  2,  2,  3,  3,  3,  5,  5,  6,  6,  2,  2,  2, 13, 10,  1, 11]), batch_sizes=tensor([11, 11,  8,  3,  1,  1,  1]), sorted_indices=tensor([ 9,  4, 10,  1,  2,  6,  7,  8,  0,  3,  5]), unsorted_indices=tensor([ 8,  3,  4,  9,  1, 10,  5,  6,  7,  0,  2]))"
            ]
          },
          "metadata": {},
          "execution_count": 21
        }
      ]
    },
    {
      "cell_type": "code",
      "metadata": {
        "id": "Tfck3KtKH8kR",
        "colab": {
          "base_uri": "https://localhost:8080/"
        },
        "outputId": "7e84ef9b-8fa5-4284-954a-aeb8ac037e40"
      },
      "source": [
        "# unpacking\n",
        "unpacked_sequence, len_list = pad_packed_sequence(packed_sequence, batch_first=True)\n",
        "print(unpacked_sequence)\n",
        "print(len_list)"
      ],
      "execution_count": 24,
      "outputs": [
        {
          "output_type": "stream",
          "name": "stdout",
          "text": [
            "tensor([[ 1,  5,  0,  0,  0,  0,  0],\n",
            "        [ 1,  8,  5,  0,  0,  0,  0],\n",
            "        [ 1,  3,  5,  0,  0,  0,  0],\n",
            "        [ 9,  2,  0,  0,  0,  0,  0],\n",
            "        [ 2,  4,  3,  2,  0,  0,  0],\n",
            "        [ 3,  2,  0,  0,  0,  0,  0],\n",
            "        [ 1,  4,  6,  0,  0,  0,  0],\n",
            "        [ 1,  4,  6,  0,  0,  0,  0],\n",
            "        [ 1,  4,  2,  0,  0,  0,  0],\n",
            "        [ 7,  7,  3,  2, 10,  1, 11],\n",
            "        [ 1, 12,  3, 13,  0,  0,  0]])\n",
            "tensor([2, 3, 3, 2, 4, 2, 3, 3, 3, 7, 4])\n"
          ]
        }
      ]
    }
  ]
}