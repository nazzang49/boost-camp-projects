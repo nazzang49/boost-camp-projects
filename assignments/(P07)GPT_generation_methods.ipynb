{
  "nbformat": 4,
  "nbformat_minor": 0,
  "metadata": {
    "colab": {
      "name": "(P07)GPT_generation_methods.ipynb",
      "provenance": [],
      "collapsed_sections": [],
      "include_colab_link": true
    },
    "kernelspec": {
      "name": "python3",
      "display_name": "Python 3"
    },
    "accelerator": "GPU"
  },
  "cells": [
    {
      "cell_type": "markdown",
      "metadata": {
        "id": "view-in-github",
        "colab_type": "text"
      },
      "source": [
        "<a href=\"https://colab.research.google.com/github/nazzang49/boost-camp-projects/blob/main/assignments/(P07)GPT_generation_methods.ipynb\" target=\"_parent\"><img src=\"https://colab.research.google.com/assets/colab-badge.svg\" alt=\"Open In Colab\"/></a>"
      ]
    },
    {
      "cell_type": "markdown",
      "metadata": {
        "id": "hSfah6SLfhVG"
      },
      "source": [
        "# 텍스트 생성 방법 : Transformers를 이용한 언어생성에 서로 다른 디코딩 방법 사용\n",
        "\n",
        "> 작성자      \n",
        "```\n",
        "* 김성현 (bananaband657@gmail.com)  \n",
        "1기 멘토\n",
        "김바다 (qkek983@gmail.com)\n",
        "박상희 (parksanghee0103@gmail.com)  \n",
        "이정우 (jungwoo.l2.rs@gmail.com)\n",
        "2기 멘토\n",
        "박상희 (parksanghee0103@gmail.com)  \n",
        "이정우 (jungwoo.l2.rs@gmail.com)\n",
        "이녕우 (leenw2@gmail.com)\n",
        "박채훈 (qkrcogns2222@gmail.com)\n",
        "```\n",
        "[CC BY-NC-ND](https://creativecommons.org/licenses/by-nc-nd/2.0/kr/)"
      ]
    },
    {
      "cell_type": "markdown",
      "metadata": {
        "id": "9l31dGxwgTMZ"
      },
      "source": [
        "#소개\n",
        "최근 몇 년 동안, OpenAI의 유명한 모델 GPT2처럼 수백만 개의 웹 페이지에서 훈련된 Transformer 기반 대형 언어 모델의 등장으로 개방형 언어 생성에 대한 관심이 증가하고 있습니다. 조건화된 개방형 언어 생성에 대한 결과는 GPT2 on unicorns, XLNet, Controlled language with CTRL와 같이 인상적입니다. 개선된 Transformer 아키텍처와 대규모 unsupervised training data 외에도, 더 나은 Decoding 방법도 중요한 역할을 했습니다.\n",
        "\n",
        "이 실습 자료는 다양한 Decoding 전략에 대한 간략한 개요를 제공하며, 더 중요한 것은 널리 사용되는 Transformer 라이브러리를 사용하여 적은 노력으로 이러한 전략을 구현하는 방법을 보여줍니다!\n",
        "\n",
        "다음 모든 기능은 auto-regressive 언어 생성에 사용할 수 있습니다. 요약하자면, auto-regressive 언어 생성은 word sequence의 확률 분포가 다음 던어 분포에 관한 P식의 결과로 분해될 수 있고 \n",
        "\n",
        "$$ P(w_{1:T} | W_0 ) = \\prod_{t=1}^T P(w_{t} | w_{1: t-1}, W_0) \\text{ ,with }  w_{1: 0} = \\emptyset, $$\n",
        "\n",
        "W0가 초기 Context word sequence의 결과로 분해될 수 있다는 가정에 기초합니다.\n",
        "\n",
        "Word sequence의 길이 T는 보통 즉시 결정되며, P식에서 EOS 토큰이 생성된 timestep t=T와 부합합니다.\n",
        "\n",
        "Auto-regressive 언어 생성은 현재 GPT2, XLNet, OpenAi-GPT, CTRL, TransfoXL, XLM, Bart, T5를 Pytorch와 Tensorflow >=2.0에서 이용 가능합니다.\n",
        "\n",
        "이번 실습에서는 가장 두드러진 decoding 방법으로 Greedy search, Beam search, Top-K sampling, Top-p sampling을 주로 둘러볼 것입니다.\n",
        "\n"
      ]
    },
    {
      "cell_type": "markdown",
      "metadata": {
        "id": "sz0J-hPCoZEl"
      },
      "source": [
        "Transformers를 설치하고 Model을 load하겠습니다."
      ]
    },
    {
      "cell_type": "code",
      "metadata": {
        "id": "XbzZ_IVTtoQe"
      },
      "source": [
        "!pip install transformers"
      ],
      "execution_count": null,
      "outputs": []
    },
    {
      "cell_type": "markdown",
      "metadata": {
        "id": "X4jS5zNKknHT"
      },
      "source": [
        "이번 실습을 위해 SKT에서 공개한 KoGPT-2 모델을 사용해보도록 하겠습니다 :-)"
      ]
    },
    {
      "cell_type": "markdown",
      "metadata": {
        "id": "kQjEhPVwFMpv"
      },
      "source": [
        "# KoGPT-2"
      ]
    },
    {
      "cell_type": "code",
      "metadata": {
        "id": "b1eVsFQQgdBk"
      },
      "source": [
        "!curl -s https://packagecloud.io/install/repositories/github/git-lfs/script.deb.sh | sudo bash\n",
        "!apt-get install git-lfs\n",
        "!git lfs install\n",
        "!git clone https://huggingface.co/taeminlee/kogpt2"
      ],
      "execution_count": null,
      "outputs": []
    },
    {
      "cell_type": "code",
      "metadata": {
        "colab": {
          "base_uri": "https://localhost:8080/"
        },
        "id": "ckGerDmxgjOb",
        "outputId": "77050ad7-e07d-4313-e3b0-9f8d6aae9397"
      },
      "source": [
        "import torch\n",
        "from tokenizers import SentencePieceBPETokenizer\n",
        "from transformers import GPT2Config, GPT2LMHeadModel\n",
        "\n",
        "tokenizer = SentencePieceBPETokenizer(\"/content/kogpt2/vocab.json\", \"/content/kogpt2/merges.txt\")\n",
        "\n",
        "# vocab 재조정\n",
        "config = GPT2Config(vocab_size=50000)\n",
        "config.pad_token_id = tokenizer.token_to_id('<pad>')\n",
        "model = GPT2LMHeadModel(config)\n",
        "\n",
        "model_dir = '/content/kogpt2/pytorch_model.bin'\n",
        "\n",
        "# map_location = cuda => gpu\n",
        "model.load_state_dict(torch.load(model_dir, map_location='cuda'), strict=False)\n",
        "model.to('cuda')\n",
        "model.eval()\n",
        "tokenizer.add_special_tokens([\"<s>\", \"</s>\"])"
      ],
      "execution_count": 3,
      "outputs": [
        {
          "output_type": "execute_result",
          "data": {
            "text/plain": [
              "0"
            ]
          },
          "metadata": {},
          "execution_count": 3
        }
      ]
    },
    {
      "cell_type": "markdown",
      "metadata": {
        "id": "BYdGXD4opfuk"
      },
      "source": [
        "### **Greedy Search**\n",
        "- 가장 높은 확률 선택\n",
        "- Bad Approach\n",
        "\n",
        "Greedy search는 단순히 가장 높은 확률을 가진 단어를 다음 단어로 선택합니다.   \n",
        "$w_t = argmax_{w}P(w | w_{1:t-1})$ 는 각각의 timestep $t$ 입니다. 아래 그림은 greedy search을 보여줍니다.   \n",
        "\n",
        "![Greedy Search](https://raw.githubusercontent.com/patrickvonplaten/scientific_images/master/greedy_search.png)\n",
        "\n",
        "알고리즘은 단어 \"The\"에서 시작하여 다음 단어로 가장 높은 확률의 단어인 \"nice\" 등을 선택하는 탐욕법입니다. 그러므로 최종적으로 생성된 Word sequence는 \"The\", \"nice\", \"woman\"이며 전반적인 확률은 0.5x0.4 = 0.2로 계산됩니다.\n",
        "\n",
        "다음 문맥 (\"I\", \"enjoy\", \"walking\", \"with\", \"my\", \"cute\", \"dog\")에서 GPT2를 사용하여 Word sequence를 생성할 수 있습니다.\n",
        "\n",
        "Transformers에서 다음과 같은 greedy search를 사용하는 방법을 살펴보겠습니다.\n",
        "\n",
        "\n",
        "\n"
      ]
    },
    {
      "cell_type": "code",
      "metadata": {
        "id": "OWLd_J6lXz_t"
      },
      "source": [
        "# encode context the generation is conditioned on\n",
        "def tokenizing(text):\n",
        "    return torch.tensor(tokenizer.encode('<s> '+text, add_special_tokens=False).ids).unsqueeze(0).to('cuda')\n",
        "\n",
        "'''\n",
        "I enjoy walking with my cute dog\n",
        "'''\n",
        "\n",
        "input_ids = tokenizing(\"이순신은 조선 중기의 무신이다.\")\n",
        "\n",
        "# generate text until the output length (which includes the context length) reaches 100\n",
        "# 생성 모델은 generate 함수를 통해 다음 token을 생성해낼 수 있습니다.\n",
        "greedy_output = model.generate(input_ids, max_length=100) # 별도의 파라미터 명시하지 않으면 디폴트로 greedy search 진행\n",
        "\n",
        "print(\"Output:\\n\" + 100 * '-')\n",
        "print(tokenizer.decode(greedy_output.tolist()[0], skip_special_tokens=True))\n",
        "\n",
        "\"\"\"\n",
        "Output:\n",
        "----------------------------------------------------------------------------------------------------\n",
        "I enjoy walking with my cute dog, but I'm not sure if I'll ever be able to walk with my dog. I'm not sure if I'll ever be able to walk with my dog.\n",
        "\n",
        "I'm not sure if I'll\n",
        "\"\"\""
      ],
      "execution_count": null,
      "outputs": []
    },
    {
      "cell_type": "markdown",
      "metadata": {
        "id": "ZNIDMgkds-VO"
      },
      "source": [
        "GPT2로 짧은 텍스트를 생성했습니다.   \n",
        "생성된 단어 문맥은 합리적이지만 모델은 비슷한 단어를 반복하는 수준입니다.   \n",
        "이러한 현상은 일반적인 언어생성 모델에서 나타나는 공통된 문제이며 특히 Greedy search와 Beam search에서 훨씬 더 그런 현상이 두드러져 보입니다. (Vijayakumar et al., 2016 and Shao et al., 2017에서 관련 내용을 확인 할 수 있습니다.)   \n",
        "\n",
        "Greedy search의 주요 단점은 그림에서 볼수 있듯이 낮은 확률 단어 이후에 나올수 있는 더 높은 확률의 단어를 놓친다는 점입니다.\n",
        "\n",
        "예를 들면 단어 \"has\"는 0.9의 높은 조건부 확률을 가지고 있지만, 첫 검색단어중 두번째로 높은 조건부 확률 단어인 \"dog\" 이후에  숨어있는 형태입니다. 따라서 Greedy search는 \"The\",\"dog\",\"has\"라는 Word sequence를 놓치게 됩니다.\n",
        "\n",
        "이러한 문제는 Beam search에서 완화할 수 있습니다."
      ]
    },
    {
      "cell_type": "markdown",
      "metadata": {
        "id": "Y73RcrRPn-Bn"
      },
      "source": [
        "### **Beam search**\n",
        "- 전체 문장 기준으로 확률이 최대가 되도록 개별 단어 선택\n",
        "- 추론 시간이 증가하는 단점 존재\n",
        "\n",
        "Beam search는 각 Time step에서 가장 확률이 높은 Hypotheses의 num_beams를 유지하고 결국 전체 확률이 가장 높은 hypothesis를 선택하는 것으로 숨겨진 높은 확률 Word sequence를 놓칠 위험을 줄입니다.\n",
        "\n",
        "`num_beams =2`라고 가정하고 Toy example을 설명하겠습니다.\n",
        "\n",
        "![Beam search](https://raw.githubusercontent.com/patrickvonplaten/scientific_images/master/beam_search.png)\n",
        "\n",
        "Time step=1일때, Beam search는 가장 가능성 높은 Hypothesis \"The\",\"woman\"외에도 두번째로 가능성 높은 Hypothesis인 \"The\",\"dog\"를 추적합니다. \n",
        "\n",
        "Time step=2일때, Beam search는 Word sequence 확률 0.2를 가진 (\"The\",\"nice\",\"woman\") 보다 확률 0.36을 가진 (\"The\", \"dog\", \"has\")가 높다는 것을 찾습니다. 이것으로 Toy example에서 가장 가능성 높은 Word sequence를 발견 할 수 있다는 것을 보였습니다.\n",
        "\n",
        "Beam search는 항상 Greedy search보다 높은 확률의 결과 Sequence를 찾는 것이 가능합니다. 그러나 이것이 가장 가능성 높은 결과를 찾은 것이라고는 보장할 수 없습니다. \n",
        "\n",
        "`transformers`에서 Beam search를 사용하는 방법을 살펴볼 것입니다. 모든 Beam Hypotheses가 EOS토큰에 닿으면 생성이 완료되도록 `num_beams > 1` 과 `eqrly_stopping=True`로 파라미터를 설정합니다.\n"
      ]
    },
    {
      "cell_type": "code",
      "metadata": {
        "id": "R1R5kx30Ynej",
        "colab": {
          "base_uri": "https://localhost:8080/",
          "height": 146
        },
        "outputId": "c0c744fe-30a4-45a6-9367-433ad6758381"
      },
      "source": [
        "# activate beam search and early_stopping\n",
        "beam_output = model.generate(\n",
        "    input_ids,  \n",
        "    max_length=50, \n",
        "    num_beams=5, # 5개 최초 분기를 경우의 수로 보겠다는 의미\n",
        "    early_stopping=True\n",
        ")\n",
        "\n",
        "print(\"Output:\\n\" + 100 * '-')\n",
        "print(tokenizer.decode(beam_output.tolist()[0], skip_special_tokens=True))\n",
        "\n",
        "\n",
        "\"\"\"\n",
        "Output:\n",
        "----------------------------------------------------------------------------------------------------\n",
        "I enjoy walking with my cute dog, but I'm not sure if I'll ever be able to walk with him again.\n",
        "\n",
        "I'm not sure if I'll ever be able to walk with him again. I'm not sure if I'll\n",
        "\"\"\""
      ],
      "execution_count": 5,
      "outputs": [
        {
          "output_type": "stream",
          "name": "stdout",
          "text": [
            "Output:\n",
            "----------------------------------------------------------------------------------------------------\n",
            "이순신은 조선 중기의 무신이다. 이 목록은 대한민국의 작곡가 윤일상(尹一常)이 작사, 작곡한 곡이다. 이 목록은 대한민국의 작곡가 윤일상(尹一常)이 작사, 작곡한 곡이다.\n"
          ]
        },
        {
          "output_type": "execute_result",
          "data": {
            "application/vnd.google.colaboratory.intrinsic+json": {
              "type": "string"
            },
            "text/plain": [
              "\"\\nOutput:\\n----------------------------------------------------------------------------------------------------\\nI enjoy walking with my cute dog, but I'm not sure if I'll ever be able to walk with him again.\\n\\nI'm not sure if I'll ever be able to walk with him again. I'm not sure if I'll\\n\""
            ]
          },
          "metadata": {},
          "execution_count": 5
        }
      ]
    },
    {
      "cell_type": "markdown",
      "metadata": {
        "id": "UCeY_atbBMr7"
      },
      "source": [
        "결과는 틀림없이 더 유창하게 보이지만 여전히 동일한 Word sequence를 반복하는 문제를 포함합니다.\n",
        "\n",
        "단순한 해결법은 Paulus et al. (2017)과 Klein et al. (2017)의 논문에서 제안된 n-grams 패널티를 도입하는 것입니다. 가장 일반적인 n-grams 패널티는 이미 나타난 n-gram에 대해 다음 단어로 생성될 확률을 0으로 설정하여 두번 나타나지 않도록 하는 방법입니다.\n",
        "\n",
        "`no_repeat_ngram_size=2`을 설정한다면 2-gram이 두번 나타나는 것을 막을 수 있습니다."
      ]
    },
    {
      "cell_type": "markdown",
      "metadata": {
        "id": "Es3oFxSAHbCp"
      },
      "source": [
        "### **N-gram 페널티 부여**"
      ]
    },
    {
      "cell_type": "code",
      "metadata": {
        "id": "jy3iVJgfnkMi",
        "colab": {
          "base_uri": "https://localhost:8080/",
          "height": 146
        },
        "outputId": "891acfc0-5b68-4dbc-da78-a8fe2b6017d0"
      },
      "source": [
        "# set no_repeat_ngram_size to 2\n",
        "beam_output = model.generate(\n",
        "    input_ids, \n",
        "    max_length=50, \n",
        "    num_beams=5, \n",
        "    no_repeat_ngram_size=2, # 2번 이상 반보되지 않도록 설정\n",
        "    early_stopping=True\n",
        ")\n",
        "\n",
        "print(\"Output:\\n\" + 100 * '-')\n",
        "print(tokenizer.decode(beam_output.tolist()[0], skip_special_tokens=True))\n",
        "\n",
        "\"\"\"\n",
        "Output:\n",
        "----------------------------------------------------------------------------------------------------\n",
        "I enjoy walking with my cute dog, but I'm not sure if I'll ever be able to walk with him again.\n",
        "\n",
        "I'm not sure if I'll ever be able to walk with him again. I'm not sure if I'll\n",
        "\"\"\""
      ],
      "execution_count": 6,
      "outputs": [
        {
          "output_type": "stream",
          "name": "stdout",
          "text": [
            "Output:\n",
            "----------------------------------------------------------------------------------------------------\n",
            "이순신은 조선 중기의 무신이다. 이 목록은 대한민국의 작곡가 윤일상(尹一常)이 작사, 작곡한 노래들을 정리한 것이다.<ref name=\"friends\"></ref> <br><br><br\n"
          ]
        },
        {
          "output_type": "execute_result",
          "data": {
            "application/vnd.google.colaboratory.intrinsic+json": {
              "type": "string"
            },
            "text/plain": [
              "\"\\nOutput:\\n----------------------------------------------------------------------------------------------------\\nI enjoy walking with my cute dog, but I'm not sure if I'll ever be able to walk with him again.\\n\\nI'm not sure if I'll ever be able to walk with him again. I'm not sure if I'll\\n\""
            ]
          },
          "metadata": {},
          "execution_count": 6
        }
      ]
    },
    {
      "cell_type": "markdown",
      "metadata": {
        "id": "qXTJqkIlFR4L"
      },
      "source": [
        "더이상 반복이 나타나지 않는 다는 것을 볼 수 있습니다. 하지만 n-gram 패널티는 신중하게 사용되어야 합니다. 예를 들면 city New York에 대해 생성된 기사는 n-gram을 사용하지 않는 것이 좋습니다. 2-gram을 사용하게 될 경우 시의 이름이 전체 텍스트에서 한 번만 나타나기 때문입니다.\n",
        "\n",
        "Beam search의 또 다른 중요한 특징은 생성된 Top beam을 비교하여 목적에 가장 적합한 Beam을 선택할 수 있다는 것입니다.\n",
        "\n",
        "Transformer에서 num_return_sequences 파라미터를 return 해야 하는 최대 num_beams 보다 작거나 같도록 설정합니다. `num_return_sequences <= num_beams`로 설정된 코드를 확인할 수 있습니다."
      ]
    },
    {
      "cell_type": "code",
      "metadata": {
        "id": "5ClO3VphqGp6",
        "colab": {
          "base_uri": "https://localhost:8080/",
          "height": 290
        },
        "outputId": "d8452b99-d1e5-4f90-eacf-dc5b70218932"
      },
      "source": [
        "# set return_num_sequences > 1\n",
        "beam_outputs = model.generate(\n",
        "    input_ids, \n",
        "    max_length=50, \n",
        "    num_beams=5, \n",
        "    no_repeat_ngram_size=2, \n",
        "    num_return_sequences=5, # 고려대상으로 최대 반환되는 문장 갯수\n",
        "    early_stopping=True\n",
        ")\n",
        "\n",
        "# now we have 3 output sequences\n",
        "print(\"Output:\\n\" + 100 * '-')\n",
        "for i, beam_output in enumerate(beam_outputs):\n",
        "  print(\"{}: {}\".format(i, tokenizer.decode(beam_output.tolist(), skip_special_tokens=True)))\n",
        "\n",
        "\n",
        "\"\"\"\n",
        "Output:\n",
        "----------------------------------------------------------------------------------------------------\n",
        "0: I enjoy walking with my cute dog, but I'm not sure if I'll ever be able to walk with him again.\n",
        "\n",
        "I've been thinking about this for a while now, and I think it's time for me to take a break\n",
        "1: I enjoy walking with my cute dog, but I'm not sure if I'll ever be able to walk with him again.\n",
        "\n",
        "I've been thinking about this for a while now, and I think it's time for me to get back to\n",
        "2: I enjoy walking with my cute dog, but I'm not sure if I'll ever be able to walk with her again.\n",
        "\n",
        "I've been thinking about this for a while now, and I think it's time for me to take a break\n",
        "3: I enjoy walking with my cute dog, but I'm not sure if I'll ever be able to walk with her again.\n",
        "\n",
        "I've been thinking about this for a while now, and I think it's time for me to get back to\n",
        "4: I enjoy walking with my cute dog, but I'm not sure if I'll ever be able to walk with him again.\n",
        "\n",
        "I've been thinking about this for a while now, and I think it's time for me to take a step\n",
        "\"\"\""
      ],
      "execution_count": 7,
      "outputs": [
        {
          "output_type": "stream",
          "name": "stdout",
          "text": [
            "Output:\n",
            "----------------------------------------------------------------------------------------------------\n",
            "0: 이순신은 조선 중기의 무신이다. 이 목록은 대한민국의 작곡가 윤일상(尹一常)이 작사, 작곡한 노래들을 정리한 것이다.<ref name=\"friends\"></ref> <br><br><br\n",
            "1: 이순신은 조선 중기의 무신이다. 이 목록은 대한민국의 작곡가 윤일상(尹一常)이 작사, 작곡한 노래들을 정리한 것이다.<ref name=\"friends\"></ref> <br><br><br\n",
            "2: 이순신은 조선 중기의 무신이다. 이 목록은 대한민국의 작곡가 윤일상(尹一常)이 작사, 작곡한 노래들을 정리한 것이다.<ref name=\"friends\"></ref> <br><br> </br\n",
            "3: 이순신은 조선 중기의 무신이다. 이 목록은 대한민국의 작곡가 윤일상(尹一常)이 작사, 작곡한 노래들을 정리한 것이다.<ref name=\"friends\"></ref> <br><br></br\n",
            "4: 이순신은 조선 중기의 무신이다. 이 목록은 대한민국의 작곡가 윤일상(尹一常)이 작사, 작곡한 노래들을 정리한 것이다.<ref name=\"friends\"></ref> <br><br> </ref\n"
          ]
        },
        {
          "output_type": "execute_result",
          "data": {
            "application/vnd.google.colaboratory.intrinsic+json": {
              "type": "string"
            },
            "text/plain": [
              "\"\\nOutput:\\n----------------------------------------------------------------------------------------------------\\n0: I enjoy walking with my cute dog, but I'm not sure if I'll ever be able to walk with him again.\\n\\nI've been thinking about this for a while now, and I think it's time for me to take a break\\n1: I enjoy walking with my cute dog, but I'm not sure if I'll ever be able to walk with him again.\\n\\nI've been thinking about this for a while now, and I think it's time for me to get back to\\n2: I enjoy walking with my cute dog, but I'm not sure if I'll ever be able to walk with her again.\\n\\nI've been thinking about this for a while now, and I think it's time for me to take a break\\n3: I enjoy walking with my cute dog, but I'm not sure if I'll ever be able to walk with her again.\\n\\nI've been thinking about this for a while now, and I think it's time for me to get back to\\n4: I enjoy walking with my cute dog, but I'm not sure if I'll ever be able to walk with him again.\\n\\nI've been thinking about this for a while now, and I think it's time for me to take a step\\n\""
            ]
          },
          "metadata": {},
          "execution_count": 7
        }
      ]
    },
    {
      "cell_type": "markdown",
      "metadata": {
        "id": "FyRYm1OUI0zN"
      },
      "source": [
        "코드 결과를 통해 볼수 있듯이 5개의 Beam hypotheses는 서로 약간 다를 뿐이며 5개만 사용했을 경우 놀랄만한 결과는 아닙니다.\n",
        "\n",
        "개방형 생성에서는 Beam search가 최선의 선택사항이 아닐수 있는 몇 가지 이유가 최근에 제시되었습니다.\n",
        "\n",
        "- Beam search는 Machine translation 또는 Text summarization처럼 원하는 문장 생성 길이가 예측 가능한 Task에서는 잘 작동할 수 있습니다. 하지만 Dialog 또는 Story Generation Task처럼 출력길이가 크게 달라질 수 있는 개방형 생성에서는 원활하게 작동하지 않습니다. (\n",
        "[Murray et al. (2018)](https://arxiv.org/abs/1808.10006), [Yang et al. (2018)](https://arxiv.org/abs/1808.09582))\n",
        "\n",
        "- Beam search은 반복 생성 문제에 취약합니다. 특히 Story Generation Task에서 n-gram또는 기타 패널티를 통해 문장을 제어하는 것이 어렵습니다. 왜냐하면 \"반복이 없는 구문\"과 \"n=gram반복 주기\" 사이에서 적당한 trade-off를 찾기 위해 많은 finetuning이 필요하기 때문입니다.\n",
        "\n",
        "- [Ari Holtzman et al. (2019)](https://arxiv.org/abs/1904.09751) 논문에 따르면 고품질 인간 언어는 높은 확률의 다음 단어 분포를 따르지 않는다고 주장합니다. 쉽게 말하자면 인간입장에서 우리는 지루하거나 예측 가능한 문장이 아니라 우리를 놀라게 할 수 있는 문장생성을 원한다고 합니다. 저자는 모델이 인간 텍스트 대비 beam search text를 그래프로 보여주면서 beam search text가 그다지 놀랍지 않은 문장이라는 것을 보여줬습니다.\n",
        "\n",
        "\n",
        "![alt text](https://blog.fastforwardlabs.com/images/2019/05/Screen_Shot_2019_05_08_at_3_06_36_PM-1557342561886.png)"
      ]
    },
    {
      "cell_type": "markdown",
      "metadata": {
        "id": "hWQ2EWfYRFJZ"
      },
      "source": [
        "### **Sampling**\n",
        "- 무작위 선택 by 조건부 확률 분포\n",
        "\n",
        "\n",
        "가장 기본적인 형태의 Sampling은 조건부 확률 분포에 따라 다음 단어 $w_t$를 무작위로 선택하는 것을 의미합니다.\n",
        "\n",
        "\n",
        "$$w_t \\sim P(w|w_{1:t-1})$$\n",
        "\n",
        "위의 예를 들어, 아래 사진은 Sampling할 때 언어 생성을 시각화한 형태입니다.\n",
        "\n",
        "\n",
        "![vanilla_sampling](https://raw.githubusercontent.com/patrickvonplaten/scientific_images/master/sampling_search.png)\n",
        "\n",
        "\n",
        "Sampling을 이용한 언어생성은 더이상 결정론적이지 않습니다. 단어 \n",
        "$\\text{\"car\"}$ 는 조건부확률 $P(w | \\text{\"The\"})$에서 샘플링 된 후, $P(w | \\text{\"The\"}, \\text{\"car\"})$에서 $\\text{\"drives\"}$를 샘플링 합니다.\n",
        "\n",
        "\n",
        "\n",
        "`transformers`에서 `do_sample=True`를 설정하고 `top_k=0`을 통해 *Top-K* sampling을 비활성화 합니다."
      ]
    },
    {
      "cell_type": "code",
      "metadata": {
        "id": "aRAz4D-Ks0_4",
        "colab": {
          "base_uri": "https://localhost:8080/",
          "height": 146
        },
        "outputId": "a48ca252-ba7b-4c48-8b8f-455443897017"
      },
      "source": [
        "# activate sampling and deactivate top_k by setting top_k sampling to 0\n",
        "sample_output = model.generate(\n",
        "    input_ids, \n",
        "    do_sample=True, # 완전 random sampling\n",
        "    max_length=50, \n",
        "    top_k=0 # w/o top_k 추출\n",
        ")\n",
        "\n",
        "print(\"Output:\\n\" + 100 * '-')\n",
        "print(tokenizer.decode(sample_output.tolist()[0], skip_special_tokens=True))\n",
        "\n",
        "\"\"\"\n",
        "Output:\n",
        "----------------------------------------------------------------------------------------------------\n",
        "I enjoy walking with my cute dog. He just gave me a whole new hand sense.\"\n",
        "\n",
        "But it seems that the dogs have learned a lot from teasing at the local batte harness once they take on the outside.\n",
        "\n",
        "\"I take\n",
        "\"\"\""
      ],
      "execution_count": 8,
      "outputs": [
        {
          "output_type": "stream",
          "name": "stdout",
          "text": [
            "Output:\n",
            "----------------------------------------------------------------------------------------------------\n",
            "이순신은 조선 중기의 무신이다. 선제 때 규슈 정벌에 관여하였다. 1월 7일에 후쿠이 성의 ubariero 총독부에 입성하였다. 4월 13일, 아이티 전투 와중에 사망했다.\n"
          ]
        },
        {
          "output_type": "execute_result",
          "data": {
            "application/vnd.google.colaboratory.intrinsic+json": {
              "type": "string"
            },
            "text/plain": [
              "'\\nOutput:\\n----------------------------------------------------------------------------------------------------\\nI enjoy walking with my cute dog. He just gave me a whole new hand sense.\"\\n\\nBut it seems that the dogs have learned a lot from teasing at the local batte harness once they take on the outside.\\n\\n\"I take\\n'"
            ]
          },
          "metadata": {},
          "execution_count": 8
        }
      ]
    },
    {
      "cell_type": "markdown",
      "metadata": {
        "id": "WWjxm9otWZgY"
      },
      "source": [
        "흥미롭게도 본문은 괜찮은 것 같지만 자세히 보면 매우 일관성 없는 문장입니다. *3-grams*의 *new hand sense* 와*local batte harness* 라는 문장은 이상하고 사람이 쓴것처럼 보이지 않습니다. 이것은 sampling word sequences를 할때 모델이 일관성없이 횡설수설하는 문장을 발생시키는 큰 문제입니다. ([Ari Holtzman et al. (2019)](https://arxiv.org/abs/1904.09751)).\n",
        "\n",
        "한가지 트릭은 [softmax](https://en.wikipedia.org/wiki/Softmax_function#Smooth_arg_max). 의 이른바 `temperature`를 낮추어 분포 $P(w|w_{1:t-1})$를 더 선명하게 만드는 것입니다. 높은 확률의 단어의 가능성은 증가시키고 낮은 확률의 단어 가능성은 감소시키는 효과가 있습니다. \n",
        "\n",
        "temperature를 적용한다면 다음과 같은 그림을 보일 수 있습니다.\n",
        "\n",
        "![top_p_sampling](https://github.com/patrickvonplaten/scientific_images/blob/master/sampling_search_with_temp.png?raw=true)\n",
        "\n",
        "step=1의 다음 단어 분포는 더욱 선명해졌기 때문에 단어 $\\text{\"car\"}$를 선택할 확률이 거의 없습니다.\n",
        "\n",
        "\n",
        "`temperature=0.7`를 설정하여 라이브러리에서 분포를 어떻게 변화시키는지 알아보겠습니다."
      ]
    },
    {
      "cell_type": "markdown",
      "metadata": {
        "id": "Zjvtqq6fIpyr"
      },
      "source": [
        "### **Temperature**\n",
        "- 높은 확률 단어는 더 높아지도록 랜덤 샘플링\n",
        "- 낮은 확률 단어는 더 낮아지도록 랜덤 샘플링"
      ]
    },
    {
      "cell_type": "code",
      "metadata": {
        "id": "WgJredc-0j0Z",
        "colab": {
          "base_uri": "https://localhost:8080/",
          "height": 146
        },
        "outputId": "32d8a0d2-0fe4-44c4-c142-e3d8b47e3c87"
      },
      "source": [
        "# use temperature to decrease the sensitivity to low probability candidates\n",
        "sample_output = model.generate(\n",
        "    input_ids, \n",
        "    do_sample=True, \n",
        "    max_length=50, \n",
        "    top_k=0, \n",
        "    temperature=0.7 # 기준 확률\n",
        ")\n",
        "\n",
        "print(\"Output:\\n\" + 100 * '-')\n",
        "print(tokenizer.decode(sample_output.tolist()[0], skip_special_tokens=True))\n",
        "\n",
        "\"\"\"\n",
        "Output:\n",
        "----------------------------------------------------------------------------------------------------\n",
        "I enjoy walking with my cute dog, but I don't like to be at home too much. I also find it a bit weird when I'm out shopping. I am always away from my house a lot, but I do have a few friends\n",
        "\"\"\""
      ],
      "execution_count": 9,
      "outputs": [
        {
          "output_type": "stream",
          "name": "stdout",
          "text": [
            "Output:\n",
            "----------------------------------------------------------------------------------------------------\n",
            "이순신은 조선 중기의 무신이다. 이 경우 일시 정지 버튼을 누른 뒤 조명(조명)이 켜지면 영상을 재생해 112로 신고하면 된다. 경찰은 7월1일부터 9월30일까지 3개월간 매일 밤 11\n"
          ]
        },
        {
          "output_type": "execute_result",
          "data": {
            "application/vnd.google.colaboratory.intrinsic+json": {
              "type": "string"
            },
            "text/plain": [
              "\"\\nOutput:\\n----------------------------------------------------------------------------------------------------\\nI enjoy walking with my cute dog, but I don't like to be at home too much. I also find it a bit weird when I'm out shopping. I am always away from my house a lot, but I do have a few friends\\n\""
            ]
          },
          "metadata": {},
          "execution_count": 9
        }
      ]
    },
    {
      "cell_type": "markdown",
      "metadata": {
        "id": "wn_k6Bykf_vg"
      },
      "source": [
        "이제 이상한 n-gram이 적고 출력 문장이 조금 더 일관성 있게 생성됩니다. temperature를 적용하면 분포가 덜 랜덤하지만 `temperature` $ \\to 0$,을 설정한다면 temperature가 적용된 sampling은 greedy decoding과 같아지며 이전과 동일한 문제를 겪습니다."
      ]
    },
    {
      "cell_type": "markdown",
      "metadata": {
        "id": "KDhbxGrehxlz"
      },
      "source": [
        "### **Top-K Sampling (GPT-2 의 적용 방법)**\n",
        "- 높은 확률을 가지는 단어를 특정 갯수 미리 선정\n",
        "- 해당 Top-K 단어들 중 랜덤 샘플링\n",
        "\n",
        "\n",
        "[Fan et. al (2018)](https://arxiv.org/pdf/1805.04833.pdf) \n",
        "\n",
        "***Top-K*** sampling은 간단하지만 매우 강력한 생플링 방식을 도입했습니다. . *Top-K* sampling에서 가장 가능성 높은 다음 단어는 필터링 되고 확률 질량은 K 다음 단어에만 재분배됩니다. GPT2는 Top-K Sampling방식을 채택했는데, 이것이 Story Gerneration Task에 성공한 이유중 하나입니다.\n",
        "\n",
        "Top-K Sampling을 더 잘 설명하기 위해 위의 예제에서 두 Sampling step에 사용되는 범위를 3단어에서 10단어로 확장합니다.\n",
        "\n",
        "![top_k_sampling](https://raw.githubusercontent.com/patrickvonplaten/scientific_images/master/top_k_sampling.png)\n",
        "\n",
        "\n",
        "K=6을 설정하면 두 Sampling steps에서 Sampling pool을 6개의 단어로 제한합니다. $V_{\\text{top-K}}$로 정의되는 가장 높은 6개의 단어로  sampling pool을 제한합니다.\n",
        "\n",
        "첫 step에서 전체 확률 질량의 2/3인 0.68정도에 해당하는 단어에서 디코딩되지만, 두번째 step에서 거의 모든 확률질량인 0.99에서 디코딩합니다.\n",
        "\n",
        "그럼에도 불구하고 그것이 두번째 sampling step에서 $\\text{\"not\", \"the\", \"small\", \"told\"}$ 와 같은 다소 이상한 후보들을 성공적으로 제거가 가능했습니다."
      ]
    },
    {
      "cell_type": "code",
      "metadata": {
        "id": "HBtDOdD0wx3l",
        "colab": {
          "base_uri": "https://localhost:8080/",
          "height": 146
        },
        "outputId": "18eb68fc-9285-45cb-d8b4-61a3c8a641dc"
      },
      "source": [
        "# set top_k to 50\n",
        "sample_output = model.generate(\n",
        "    input_ids, \n",
        "    do_sample=True, \n",
        "    max_length=50, \n",
        "    top_k=50\n",
        ")\n",
        "\n",
        "print(\"Output:\\n\" + 100 * '-')\n",
        "print(tokenizer.decode(sample_output.tolist()[0], skip_special_tokens=True))\n",
        "\n",
        "\"\"\"\n",
        "Output:\n",
        "----------------------------------------------------------------------------------------------------\n",
        "I enjoy walking with my cute dog. It's so good to have an environment where your dog is available to share with you and we'll be taking care of you.\n",
        "\n",
        "We hope you'll find this story interesting!\n",
        "\n",
        "I am from\n",
        "\"\"\""
      ],
      "execution_count": 10,
      "outputs": [
        {
          "output_type": "stream",
          "name": "stdout",
          "text": [
            "Output:\n",
            "----------------------------------------------------------------------------------------------------\n",
            "이순신은 조선 중기의 무신이다. 하지만, 그는 그 후로도 수많은 전쟁, 병자호란, 병자호란 및 여러 전쟁 등에 참전하였고, 중군의 부름을 받았다. 한편, 그는 1623년 임진왜란\n"
          ]
        },
        {
          "output_type": "execute_result",
          "data": {
            "application/vnd.google.colaboratory.intrinsic+json": {
              "type": "string"
            },
            "text/plain": [
              "\"\\nOutput:\\n----------------------------------------------------------------------------------------------------\\nI enjoy walking with my cute dog. It's so good to have an environment where your dog is available to share with you and we'll be taking care of you.\\n\\nWe hope you'll find this story interesting!\\n\\nI am from\\n\""
            ]
          },
          "metadata": {},
          "execution_count": 10
        }
      ]
    },
    {
      "cell_type": "markdown",
      "metadata": {
        "id": "dzeNQJNhr3EH"
      },
      "source": [
        "지금까지 기법중 가장 인간적으로 보이는 텍스트를 생성했습니다. Top-K Sampling의 한 가지 우려되는 점은 다음 단어 확률 분포 $P(w|w_{1:t-1})$에서 필터링된 단어 수를 동적으로 조정하지 않는 점입니다. 예를들면 위 그림에서 첫번째 step의 단어들은 전반적으로 평평한 분포에서 Sampling 되지만, 두번째 step의 어떤 단어들은 매우 Sharp한 분포에서 Sampling 될 수 있기 때문에 문제가 될 수 있습니다.\n",
        "\n",
        "\n",
        "Step $t=1$에서 Top-K은 꽤 합리적인 후보처럼 보이는 $\\text{\"people\", \"big\", \"house\", \"cat\"}$을 샘플링하는 가능성을 배제합니다. 반면에 Step $t=2$에서 단어 Sample pool에 단어 $\\text{\"down\", \"a\"}$와 같은 부적절한 단어를 포함합니다. 그러므로 Sample pool이 고정크기 K로 제한되면 모형이 Sharp한 분포에서 횡설수설한 단어를 고를 위험이있고 평평한 분포에서는 문장의 창의성이 제한될 수 있습니다. ([Ari Holtzman et al. (2019)](https://arxiv.org/abs/1904.09751))"
      ]
    },
    {
      "cell_type": "markdown",
      "metadata": {
        "id": "wV6AHjet0Slr"
      },
      "source": [
        "### **Top-p (nucleus) sampling**\n",
        "- 확률 분포에서 그 합이 기준점 이상인 지점까지만 Top-K 로 선정하는 방식\n",
        "\n",
        "Top-p sampling은 가장 가능성 높은 단어 K 개에서만 Sample을 추출하는 방법이 아니라 누적확률이 확률 p를 초과하는 최소한의 단어 집합에서 Sample을 추출합니다.\n",
        "\n",
        "그 후 확률 질량이 단어 집합 사이에 재분배 됩니다. 이 방법은 다음 단어의 확률 분포에 따라 단어 집합의 크기가 동적으로 증가하거나 감소할 수 있습니다.\n",
        "\n",
        "![top_p_sampling](https://github.com/patrickvonplaten/scientific_images/blob/master/top_p_sampling.png?raw=true)\n",
        "\n",
        "\n",
        "\n",
        "$p=0.92$을 설정할 경우, 상위 p Sample 추출은 $V_{\\text{top-p}}$로 정의된 확률 질량의 $p=92\\%$를 초과할 최소 단어 수를 선택합니다.\n",
        "첫번째 예에서 가장 가능성 높은 9개의 단어 (\"nice\", \"dog\", \"car\" ...  house)가 포함된 반면, 두번째 예에서는 상위 3개의 단어(\"drives\", \"is\", \"turns\")만 선택해도 92%를 초과하게 됩니다. 즉 높은 확률의 단어에만 Sampling 하고 그렇지 않은 단어는 Sampling할 확률이 매우 적습니다."
      ]
    },
    {
      "cell_type": "code",
      "metadata": {
        "id": "EvwIc7YAx77F",
        "colab": {
          "base_uri": "https://localhost:8080/",
          "height": 146
        },
        "outputId": "54e252ac-8998-4cca-fa91-74d71165575f"
      },
      "source": [
        "# deactivate top_k sampling and sample only from 92% most likely words\n",
        "sample_output = model.generate(\n",
        "    input_ids, \n",
        "    do_sample=True, \n",
        "    max_length=50, \n",
        "    top_p=0.92, \n",
        "    top_k=0\n",
        ")\n",
        "\n",
        "print(\"Output:\\n\" + 100 * '-')\n",
        "print(tokenizer.decode(sample_output.tolist()[0], skip_special_tokens=True))\n",
        "\n",
        "\"\"\"\n",
        "Output:\n",
        "----------------------------------------------------------------------------------------------------\n",
        "I enjoy walking with my cute dog. He will never be the same. I watch him play.\n",
        "\n",
        "\n",
        "Guys, my dog needs a name. Especially if he is found with wings.\n",
        "\n",
        "\n",
        "What was that? I had a lot of\n",
        "\"\"\""
      ],
      "execution_count": 11,
      "outputs": [
        {
          "output_type": "stream",
          "name": "stdout",
          "text": [
            "Output:\n",
            "----------------------------------------------------------------------------------------------------\n",
            "이순신은 조선 중기의 무신이다. 결국 이렇게 한다. 밖은 국충과 고을의 사람 외가로 구성되어 있고, 처가는 산과 들에 둘러싸여 있다. 그린을 좌우로 거문고, 산탄총\n"
          ]
        },
        {
          "output_type": "execute_result",
          "data": {
            "application/vnd.google.colaboratory.intrinsic+json": {
              "type": "string"
            },
            "text/plain": [
              "'\\nOutput:\\n----------------------------------------------------------------------------------------------------\\nI enjoy walking with my cute dog. He will never be the same. I watch him play.\\n\\n\\nGuys, my dog needs a name. Especially if he is found with wings.\\n\\n\\nWhat was that? I had a lot of\\n'"
            ]
          },
          "metadata": {},
          "execution_count": 11
        }
      ]
    },
    {
      "cell_type": "markdown",
      "metadata": {
        "id": "894AH8E03pv7"
      },
      "source": [
        "이론적으로는 Top-p가 Top-K보다 더 성능이 좋아 보이지만, 두 방법 모두 실제로 잘 작동합니다. Top-p는 또한 Top-K와 함께 사용될 수 있는데, 이것은 매우 낮은 순위의 단어를 피하면서도 일부 동적 선택을 허용할 수 있습니다. \n",
        "\n",
        "독립적으로 샘플링된 다중 출력을 얻기 위하여 파라미터를 다시 설정하도록 코드를 구성 할 수도 있습니다. `num_return_sequences > 1`: "
      ]
    },
    {
      "cell_type": "code",
      "metadata": {
        "id": "3kY8P9VG8Gi9",
        "colab": {
          "base_uri": "https://localhost:8080/",
          "height": 236
        },
        "outputId": "157dbd65-c28d-4867-ac9d-77fc836bc41d"
      },
      "source": [
        "# set top_k = 50 and set top_p = 0.95 and num_return_sequences = 3\n",
        "sample_outputs = model.generate(\n",
        "    input_ids,\n",
        "    do_sample=True, \n",
        "    max_length=50, \n",
        "    top_k=50, \n",
        "    top_p=0.95, \n",
        "    num_return_sequences=3\n",
        ")\n",
        "\n",
        "print(\"Output:\\n\" + 100 * '-')\n",
        "for i, sample_output in enumerate(sample_outputs):\n",
        "  print(\"{}: {}\".format(i, tokenizer.decode(sample_output.tolist(), skip_special_tokens=True)))\n",
        "\n",
        "\"\"\"\n",
        "Output:\n",
        "----------------------------------------------------------------------------------------------------\n",
        "0: I enjoy walking with my cute dog. It's so good to have the chance to walk with a dog. But I have this problem with the dog and how he's always looking at us and always trying to make me see that I can do something\n",
        "1: I enjoy walking with my cute dog, she loves taking trips to different places on the planet, even in the desert! The world isn't big enough for us to travel by the bus with our beloved pup, but that's where I find my love\n",
        "2: I enjoy walking with my cute dog and playing with our kids,\" said David J. Smith, director of the Humane Society of the US.\n",
        "\n",
        "\"So as a result, I've got more work in my time,\" he said.\n",
        "\"\"\""
      ],
      "execution_count": 12,
      "outputs": [
        {
          "output_type": "stream",
          "name": "stdout",
          "text": [
            "Output:\n",
            "----------------------------------------------------------------------------------------------------\n",
            "0: 이순신은 조선 중기의 무신이다. 그 무렵, 송광수는 송의의 문하시중, 무학과 화계계종가를 창시하였으나, 노론을 지지하였다. 그 뒤, 송의 문하생으로 들어가 성리\n",
            "1: 이순신은 조선 중기의 무신이다. 이 사고로 마을 주민 4명이 부상하였으며, 이 중 3명은 중태의 상태에 빠져 병원에서 치료를 받고 있다. 사고지점 인근은 안개가 낀 채 시야를 가리는 등 피해가 심한 상태였다.\n",
            "2: 이순신은 조선 중기의 무신이다. '황금의 제국'의 박경수 작위 수여와 함께 작가, PD, 작가 등 모든 배우와 스태프들이 작가상을 받게 되며 '황금의 제국'에 출연하는 배우들도 함께 수상의 영광을\n"
          ]
        },
        {
          "output_type": "execute_result",
          "data": {
            "application/vnd.google.colaboratory.intrinsic+json": {
              "type": "string"
            },
            "text/plain": [
              "'\\nOutput:\\n----------------------------------------------------------------------------------------------------\\n0: I enjoy walking with my cute dog. It\\'s so good to have the chance to walk with a dog. But I have this problem with the dog and how he\\'s always looking at us and always trying to make me see that I can do something\\n1: I enjoy walking with my cute dog, she loves taking trips to different places on the planet, even in the desert! The world isn\\'t big enough for us to travel by the bus with our beloved pup, but that\\'s where I find my love\\n2: I enjoy walking with my cute dog and playing with our kids,\" said David J. Smith, director of the Humane Society of the US.\\n\\n\"So as a result, I\\'ve got more work in my time,\" he said.\\n'"
            ]
          },
          "metadata": {},
          "execution_count": 12
        }
      ]
    },
    {
      "cell_type": "markdown",
      "metadata": {
        "id": "etg-3zdz4jQK"
      },
      "source": [
        "### **Conclusion**\n",
        "\n",
        "- ad-hoc decoding방법에 따르면 Top-p와 Top-k sampling은 기존 Greedy-, Beam search 보다 개방형 언어생성에서 더 유창한 문장을 생성하는 것으로 보입니다. \n",
        "\n",
        "- 그러나 Top-p와 Top-k sampling 또한 Greedy-, Beam search 처럼 반복적 Word sequencd에 대한 문제가 발생합니다. ([Welleck et al. (2020)](https://arxiv.org/abs/2002.02492))\n",
        "\n",
        "- ([Welleck et al. (2019)](https://arxiv.org/pdf/1908.04319.pdf))에 따르면 Beam search가 모델 트레이닝 목적함수를 잘 조정한다면 Top-p보다 더 유찬한 텍스트를 생선한다는 연구도 있습니다.\n",
        "\n",
        "- 개방형 언어생성은 빠르게 발전하는 분야이며, 무엇이 적합하다고 단정할 수 없으므로 특정 사용 사례에서 가장 잘 작동하는 방법이 무엇인지 고려해야 합니다.\n",
        "\n",
        "- 언어별, 모델별로 최적의 생성 방식을 찾아내야 합니다.\n"
      ]
    },
    {
      "cell_type": "markdown",
      "metadata": {
        "id": "w4CYi91h11yd"
      },
      "source": [
        "### **Appendix**\n",
        "\n",
        "There are a couple of additional parameters for the `generate` method that were not mentioned above. We will explain them here briefly!\n",
        "\n",
        "- `min_length` can be used to force the model to not produce an EOS token (= not finish the sentence) before `min_length` is reached. This is used quite frequently in summarization, but can be useful in general if the user wants to have longer outputs.\n",
        "- `repetition_penalty` can be used to penalize words that were already generated or belong to the context. It was first introduced by [Kesker et al. (2019)](https://arxiv.org/abs/1909.05858) and is also used in the training objective in [Welleck et al. (2019)](https://arxiv.org/pdf/1908.04319.pdf). It can be quite effective at preventing repetitions, but seems to be very sensitive to different models and use cases, *e.g.* see this [discussion](https://github.com/huggingface/transformers/pull/2303) on Github.\n",
        "\n",
        "- `attention_mask` can be used to mask padded tokens\n",
        "- `pad_token_id`, `bos_token_id`, `eos_token_id`: If the model does not have those tokens by default, the user can manually choose other token ids to represent them.\n",
        "\n",
        "For more information please also look into the `generate` function [docstring](https://huggingface.co/transformers/main_classes/model.html?highlight=generate#transformers.TFPreTrainedModel.generate)."
      ]
    }
  ]
}